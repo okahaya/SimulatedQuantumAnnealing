{
 "cells": [
  {
   "cell_type": "code",
   "execution_count": 28,
   "metadata": {},
   "outputs": [],
   "source": [
    "import matplotlib.pyplot as plt\n",
    "import numpy as np\n",
    "\n",
    "def visualize_colored_graph(result, size_w,size_h, colors):\n",
    "    size = size_h*size_w\n",
    "    fig, ax = plt.subplots()\n",
    "    ax.set_title(f\"Colored Graph\")\n",
    "    ax.axis('off')\n",
    "    ax.set_xticks(np.arange(size_w+4))\n",
    "    ax.set_yticks(np.arange(size_h+2))\n",
    "    ax.set_xticklabels(np.arange(1, size_w+5))\n",
    "    ax.set_yticklabels(np.arange(2, size_h+4))\n",
    "    color = [\"red\",\"blue\",\"green\",\"yellow\",\"pink\"]\n",
    "    for i in range(size_h):\n",
    "        for k in range(size_w):\n",
    "            for j in range(colors):\n",
    "                if result[i*size_w+k][j] == 1:\n",
    "                    ax.text(2+k, 1+i,j, ha='center', va='center', fontsize=20, bbox=dict(facecolor=color[j], edgecolor='white', boxstyle='round', pad=0))\n",
    "\n",
    " \n",
    "    plt.gca().invert_yaxis()\n",
    "    plt.show()"
   ]
  },
  {
   "cell_type": "code",
   "execution_count": 35,
   "metadata": {},
   "outputs": [
    {
     "name": "stdout",
     "output_type": "stream",
     "text": [
      "[[0, 0, 0, 1], [0, 0, 1, 0], [0, 0, 1, 0], [0, 0, 1, 0], [0, 0, 0, 1], [1, 0, 0, 0], [0, 1, 0, 0], [1, 0, 0, 0], [0, 0, 1, 0]]\n"
     ]
    }
   ],
   "source": [
    "import csv\n",
    "\n",
    "# CSVファイルのパス\n",
    "csv_file = 'graphcolored.csv'\n",
    "\n",
    "# 空の二次元配列を作成\n",
    "array = []\n",
    "\n",
    "# CSVファイルを読み込む\n",
    "with open(csv_file, newline='') as file:\n",
    "    reader = csv.reader(file)\n",
    "    for row in reader:\n",
    "        # 行ごとにリストに変換して二次元配列に追加\n",
    "        array.append([int(x) for x in row])\n",
    "\n",
    "# 結果を表示\n",
    "print(array)\n"
   ]
  },
  {
   "cell_type": "code",
   "execution_count": 36,
   "metadata": {},
   "outputs": [
    {
     "data": {
      "image/png": "[encoded data removed]",
      "text/plain": [
       "<Figure size 640x480 with 1 Axes>"
      ]
     },
     "metadata": {},
     "output_type": "display_data"
    }
   ],
   "source": [
    "h = int(len(array)**(1/2))\n",
    "w = h\n",
    "c = len(array[0])\n",
    "visualize_colored_graph(array,h,w,c)"
   ]
  },
  {
   "cell_type": "code",
   "execution_count": null,
   "metadata": {},
   "outputs": [],
   "source": []
  }
 ],
 "metadata": {
  "kernelspec": {
   "display_name": "Python 3",
   "language": "python",
   "name": "python3"
  },
  "language_info": {
   "codemirror_mode": {
    "name": "ipython",
    "version": 3
   },
   "file_extension": ".py",
   "mimetype": "text/x-python",
   "name": "python",
   "nbconvert_exporter": "python",
   "pygments_lexer": "ipython3",
   "version": "3.11.9"
  }
 },
 "nbformat": 4,
 "nbformat_minor": 2
}
