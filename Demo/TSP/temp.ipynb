{
 "cells": [
  {
   "cell_type": "code",
   "execution_count": 173,
   "metadata": {},
   "outputs": [],
   "source": [
    "pre_bit2 =  [[0,0,0,1,0],\n",
    "            [1,0,0,0,0],\n",
    "            [0,1,0,0,0],\n",
    "            [0,0,1,0,0],\n",
    "            [0,0,0,0,1]]\n",
    "pre_bit = [0,0,0,1,0,1,0,0,0,0,0,1,0,0,0,0,0,1,0,0,0,0,0,0,1]"
   ]
  },
  {
   "cell_type": "code",
   "execution_count": 174,
   "metadata": {},
   "outputs": [],
   "source": [
    "next_bit2 = [[0,1,0,0,0],\n",
    "            [1,0,0,0,0],\n",
    "            [0,0,0,1,0],\n",
    "            [0,0,1,0,0],\n",
    "            [0,0,0,0,1]]\n",
    "next_bit = [0,1,0,0,0,1,0,0,0,0,0,0,0,1,0,0,0,1,0,0,0,0,0,0,1]"
   ]
  },
  {
   "cell_type": "code",
   "execution_count": 175,
   "metadata": {},
   "outputs": [
    {
     "data": {
      "text/plain": [
       "[1, 3, 11, 13]"
      ]
     },
     "execution_count": 175,
     "metadata": {},
     "output_type": "execute_result"
    }
   ],
   "source": [
    "fliped_bits = [0*5+1,0*5+3,2*5+1,2*5+3]\n",
    "fliped_bits"
   ]
  },
  {
   "cell_type": "code",
   "execution_count": 176,
   "metadata": {},
   "outputs": [
    {
     "name": "stdout",
     "output_type": "stream",
     "text": [
      "1\n",
      "-1\n",
      "-1\n",
      "1\n"
     ]
    }
   ],
   "source": [
    "for i in fliped_bits:\n",
    "    print(delta[i])"
   ]
  },
  {
   "cell_type": "code",
   "execution_count": 177,
   "metadata": {},
   "outputs": [],
   "source": [
    "def Is_contains(list,element):\n",
    "    for i in list:\n",
    "        if i == element:\n",
    "            return True\n",
    "    return False"
   ]
  },
  {
   "cell_type": "code",
   "execution_count": 178,
   "metadata": {},
   "outputs": [],
   "source": [
    "import sympy"
   ]
  },
  {
   "cell_type": "code",
   "execution_count": 179,
   "metadata": {},
   "outputs": [],
   "source": [
    "from sympy import symbols,Eq,solve\n",
    "n = 25\n",
    "Q_dash = symbols(f'Q:{n}:{n}')\n",
    "Q = [[Q_dash[i*n + j] for j in range(n)] for i in range(n)]\n",
    "for i in range(n):\n",
    "    Q[i][i] = 0\n",
    "for i in range(n):\n",
    "    for j in range(i,n):\n",
    "        # Q[j][i] = Q[i][j]\n",
    "        Q[j][i] = 0"
   ]
  },
  {
   "cell_type": "code",
   "execution_count": 180,
   "metadata": {},
   "outputs": [],
   "source": [
    "def E(bit,Q):\n",
    "    energy = 0.0\n",
    "    for i in range(len(bit)):\n",
    "        if bit[i] == 0:\n",
    "            continue\n",
    "        for j in range(len(bit)):\n",
    "            if bit[j] == 0:\n",
    "                continue\n",
    "            energy += Q[i][j]*bit[i]*bit[j]\n",
    "    return energy\n"
   ]
  },
  {
   "cell_type": "code",
   "execution_count": 302,
   "metadata": {},
   "outputs": [],
   "source": [
    "delta_E = 0.0\n",
    "N = len(pre_bit)\n",
    "delta_bits = []\n",
    "for i in fliped_bits:\n",
    "    delta_bits.append(-2*pre_bit[i]+1)\n",
    "\n",
    "for i in range(len(fliped_bits)):\n",
    "    for j in range(N):\n",
    "        if (Is_contains(fliped_bits,j) == False):\n",
    "            if fliped_bits[i] <= j:\n",
    "                delta_E += delta_bits[i]*pre_bit[j]*Q[fliped_bits[i]][j]\n",
    "            else:\n",
    "                delta_E += delta_bits[i]*pre_bit[j]*Q[j][fliped_bits[i]]\n",
    "        else:\n",
    "            for k in range(len(fliped_bits)):\n",
    "                if j == fliped_bits[k]:\n",
    "                    if fliped_bits[i] <= j:\n",
    "                        delta_E += delta_bits[i]*Q[fliped_bits[i]][fliped_bits[k]]/2\n",
    "                    else:\n",
    "                        delta_E += delta_bits[i]*Q[fliped_bits[k]][fliped_bits[i]]/2\n",
    "\n",
    "delta_E2 = 0.0       \n",
    "for i in range(len(fliped_bits)):\n",
    "    for j in range(len(fliped_bits)):\n",
    "        if fliped_bits[i] <= fliped_bits[j]:\n",
    "            delta_E2 += delta_bits[i]*Q[fliped_bits[i]][fliped_bits[j]]/2\n",
    "        else :\n",
    "            delta_E2 += delta_bits[i]*Q[fliped_bits[j]][fliped_bits[i]]/2\n",
    "\n",
    "for i in range(len(fliped_bits)):\n",
    "    for j in range(N):\n",
    "        if ((Q[fliped_bits[i]][j] != 0.0 or Q[j][fliped_bits[i]] != 0.0) and Is_contains(fliped_bits,j) == False and pre_bit[j] == 1):\n",
    "            delta_E2 += (delta_bits[i]*Q[fliped_bits[i]][j] + delta_bits[i]*Q[j][fliped_bits[i]])\n",
    "                "
   ]
  },
  {
   "cell_type": "code",
   "execution_count": 303,
   "metadata": {},
   "outputs": [
    {
     "data": {
      "text/latex": [
       "$\\displaystyle - Q_{1117} - Q_{1124} + Q_{113} + Q_{117} + Q_{124} + Q_{1317} + Q_{1324} + Q_{15} - Q_{311} - Q_{317} - Q_{324} - Q_{35} - Q_{511} + Q_{513}$"
      ],
      "text/plain": [
       "-Q1117 - Q1124 + Q113 + Q117 + Q124 + Q1317 + Q1324 + Q15 - Q311 - Q317 - Q324 - Q35 - Q511 + Q513"
      ]
     },
     "execution_count": 303,
     "metadata": {},
     "output_type": "execute_result"
    }
   ],
   "source": [
    "delta_E2"
   ]
  },
  {
   "cell_type": "code",
   "execution_count": 304,
   "metadata": {},
   "outputs": [
    {
     "data": {
      "text/latex": [
       "$\\displaystyle - Q_{1117} - Q_{1124} + Q_{113} + Q_{117} + Q_{124} + Q_{1317} + Q_{1324} + Q_{15} - Q_{311} - Q_{317} - Q_{324} - Q_{35} - Q_{511} + Q_{513}$"
      ],
      "text/plain": [
       "-Q1117 - Q1124 + Q113 + Q117 + Q124 + Q1317 + Q1324 + Q15 - Q311 - Q317 - Q324 - Q35 - Q511 + Q513"
      ]
     },
     "execution_count": 304,
     "metadata": {},
     "output_type": "execute_result"
    }
   ],
   "source": [
    "delta_E"
   ]
  },
  {
   "cell_type": "code",
   "execution_count": 305,
   "metadata": {},
   "outputs": [
    {
     "data": {
      "text/latex": [
       "$\\displaystyle - Q_{1117} - Q_{1124} + Q_{113} + Q_{117} + Q_{124} + Q_{1317} + Q_{1324} + Q_{15} - Q_{311} - Q_{317} - Q_{324} - Q_{35} - Q_{511} + Q_{513}$"
      ],
      "text/plain": [
       "-Q1117 - Q1124 + Q113 + Q117 + Q124 + Q1317 + Q1324 + Q15 - Q311 - Q317 - Q324 - Q35 - Q511 + Q513"
      ]
     },
     "execution_count": 305,
     "metadata": {},
     "output_type": "execute_result"
    }
   ],
   "source": [
    "correct_deltaE = E(bit=next_bit,Q=Q) - E(bit=pre_bit,Q=Q)\n",
    "correct_deltaE"
   ]
  },
  {
   "cell_type": "code",
   "execution_count": 306,
   "metadata": {},
   "outputs": [
    {
     "data": {
      "text/latex": [
       "$\\displaystyle 0$"
      ],
      "text/plain": [
       "0"
      ]
     },
     "execution_count": 306,
     "metadata": {},
     "output_type": "execute_result"
    }
   ],
   "source": [
    "correct_deltaE - delta_E2"
   ]
  },
  {
   "cell_type": "code",
   "execution_count": null,
   "metadata": {},
   "outputs": [],
   "source": []
  },
  {
   "cell_type": "code",
   "execution_count": null,
   "metadata": {},
   "outputs": [],
   "source": []
  }
 ],
 "metadata": {
  "kernelspec": {
   "display_name": "Python 3",
   "language": "python",
   "name": "python3"
  },
  "language_info": {
   "codemirror_mode": {
    "name": "ipython",
    "version": 3
   },
   "file_extension": ".py",
   "mimetype": "text/x-python",
   "name": "python",
   "nbconvert_exporter": "python",
   "pygments_lexer": "ipython3",
   "version": "3.11.9"
  }
 },
 "nbformat": 4,
 "nbformat_minor": 2
}
